{
 "cells": [
  {
   "cell_type": "code",
   "execution_count": 1,
   "metadata": {
    "collapsed": true,
    "ExecuteTime": {
     "end_time": "2023-08-04T15:26:12.555624700Z",
     "start_time": "2023-08-04T15:26:12.539624700Z"
    }
   },
   "outputs": [],
   "source": [
    "import glob\n",
    "import json\n",
    "import pandas as pd\n",
    "import seaborn as sns"
   ]
  },
  {
   "cell_type": "code",
   "execution_count": 3,
   "outputs": [],
   "source": [
    "fn_list = glob.glob('AudioDataArchive/08-03-23/*.parquet')\n",
    "sample = fn_list[0]\n",
    "sample_df = pd.DataFrame()\n",
    "sample_df = pd.read_parquet(sample)\n",
    "sample_df2 = pd.concat([sample_df.loc[:,['timestamp']],sample_df.loc[:].value.apply(json.loads).apply(pd.Series)], axis=1)"
   ],
   "metadata": {
    "collapsed": false,
    "ExecuteTime": {
     "end_time": "2023-08-04T15:57:58.453286700Z",
     "start_time": "2023-08-04T15:57:56.537643600Z"
    }
   }
  },
  {
   "cell_type": "code",
   "execution_count": 4,
   "outputs": [
    {
     "data": {
      "text/plain": "      timestamp  ZM6_MillRPM  ZM6_MillFPM  ZM6_RightTension  ZM6_LeftTension  \\\n0      0.000000     0.830354     0.664581          0.420817         0.405523   \n1      0.000111     0.830595     0.664788          0.421438         0.405789   \n2      0.000222     0.830474     0.664797          0.421107         0.405127   \n3      0.000333     0.830233     0.664401          0.420955         0.405534   \n4      0.000443     0.830354     0.664557          0.421353         0.405867   \n...         ...          ...          ...               ...              ...   \n8993   0.999555     0.494235     0.000000          0.000000         0.000000   \n8994   0.999667     0.494275     0.000000          0.000000         0.000000   \n8995   0.999778     0.494275     0.000000          0.000000         0.000000   \n8996   0.999889     0.494235     0.000000          0.000000         0.000000   \n8997   1.000000     0.494316     0.000000          0.000000         0.000000   \n\n         WMAX0      RMS0   GNDOFF0      ZCS0     WMAX1      ZCS1      RMS1  \\\n0     0.051630  0.276000  0.468575  0.694913  0.127696  0.612966  0.419081   \n1     0.053813  0.277575  0.485376  0.696397  0.085095  0.621905  0.411307   \n2     0.054821  0.277384  0.500311  0.698509  0.448467  0.633515  0.433922   \n3     0.050107  0.278958  0.500311  0.689607  0.127696  0.569711  0.474205   \n4     0.058300  0.282564  0.501556  0.697252  0.065222  0.587383  0.487633   \n...        ...       ...       ...       ...       ...       ...       ...   \n8993  0.004673  0.003339  0.443684  0.962383  0.047622  0.814600  0.129329   \n8994  0.003041  0.003631  0.443684  0.958611  0.102748  0.823590  0.108834   \n8995  0.004672  0.003466  0.443062  0.965224  0.132770  0.815576  0.134276   \n8996  0.006514  0.003479  0.443062  0.985189  0.485941  0.787887  0.162544   \n8997  0.002192  0.003555  0.443062  0.976514  0.102696  0.800216  0.161131   \n\n       GNDOFF1  \n0     0.000000  \n1     0.000000  \n2     0.010309  \n3     0.010309  \n4     0.010309  \n...        ...  \n8993  0.989691  \n8994  0.989691  \n8995  0.989691  \n8996  1.000000  \n8997  1.000000  \n\n[8998 rows x 13 columns]",
      "text/html": "<div>\n<style scoped>\n    .dataframe tbody tr th:only-of-type {\n        vertical-align: middle;\n    }\n\n    .dataframe tbody tr th {\n        vertical-align: top;\n    }\n\n    .dataframe thead th {\n        text-align: right;\n    }\n</style>\n<table border=\"1\" class=\"dataframe\">\n  <thead>\n    <tr style=\"text-align: right;\">\n      <th></th>\n      <th>timestamp</th>\n      <th>ZM6_MillRPM</th>\n      <th>ZM6_MillFPM</th>\n      <th>ZM6_RightTension</th>\n      <th>ZM6_LeftTension</th>\n      <th>WMAX0</th>\n      <th>RMS0</th>\n      <th>GNDOFF0</th>\n      <th>ZCS0</th>\n      <th>WMAX1</th>\n      <th>ZCS1</th>\n      <th>RMS1</th>\n      <th>GNDOFF1</th>\n    </tr>\n  </thead>\n  <tbody>\n    <tr>\n      <th>0</th>\n      <td>0.000000</td>\n      <td>0.830354</td>\n      <td>0.664581</td>\n      <td>0.420817</td>\n      <td>0.405523</td>\n      <td>0.051630</td>\n      <td>0.276000</td>\n      <td>0.468575</td>\n      <td>0.694913</td>\n      <td>0.127696</td>\n      <td>0.612966</td>\n      <td>0.419081</td>\n      <td>0.000000</td>\n    </tr>\n    <tr>\n      <th>1</th>\n      <td>0.000111</td>\n      <td>0.830595</td>\n      <td>0.664788</td>\n      <td>0.421438</td>\n      <td>0.405789</td>\n      <td>0.053813</td>\n      <td>0.277575</td>\n      <td>0.485376</td>\n      <td>0.696397</td>\n      <td>0.085095</td>\n      <td>0.621905</td>\n      <td>0.411307</td>\n      <td>0.000000</td>\n    </tr>\n    <tr>\n      <th>2</th>\n      <td>0.000222</td>\n      <td>0.830474</td>\n      <td>0.664797</td>\n      <td>0.421107</td>\n      <td>0.405127</td>\n      <td>0.054821</td>\n      <td>0.277384</td>\n      <td>0.500311</td>\n      <td>0.698509</td>\n      <td>0.448467</td>\n      <td>0.633515</td>\n      <td>0.433922</td>\n      <td>0.010309</td>\n    </tr>\n    <tr>\n      <th>3</th>\n      <td>0.000333</td>\n      <td>0.830233</td>\n      <td>0.664401</td>\n      <td>0.420955</td>\n      <td>0.405534</td>\n      <td>0.050107</td>\n      <td>0.278958</td>\n      <td>0.500311</td>\n      <td>0.689607</td>\n      <td>0.127696</td>\n      <td>0.569711</td>\n      <td>0.474205</td>\n      <td>0.010309</td>\n    </tr>\n    <tr>\n      <th>4</th>\n      <td>0.000443</td>\n      <td>0.830354</td>\n      <td>0.664557</td>\n      <td>0.421353</td>\n      <td>0.405867</td>\n      <td>0.058300</td>\n      <td>0.282564</td>\n      <td>0.501556</td>\n      <td>0.697252</td>\n      <td>0.065222</td>\n      <td>0.587383</td>\n      <td>0.487633</td>\n      <td>0.010309</td>\n    </tr>\n    <tr>\n      <th>...</th>\n      <td>...</td>\n      <td>...</td>\n      <td>...</td>\n      <td>...</td>\n      <td>...</td>\n      <td>...</td>\n      <td>...</td>\n      <td>...</td>\n      <td>...</td>\n      <td>...</td>\n      <td>...</td>\n      <td>...</td>\n      <td>...</td>\n    </tr>\n    <tr>\n      <th>8993</th>\n      <td>0.999555</td>\n      <td>0.494235</td>\n      <td>0.000000</td>\n      <td>0.000000</td>\n      <td>0.000000</td>\n      <td>0.004673</td>\n      <td>0.003339</td>\n      <td>0.443684</td>\n      <td>0.962383</td>\n      <td>0.047622</td>\n      <td>0.814600</td>\n      <td>0.129329</td>\n      <td>0.989691</td>\n    </tr>\n    <tr>\n      <th>8994</th>\n      <td>0.999667</td>\n      <td>0.494275</td>\n      <td>0.000000</td>\n      <td>0.000000</td>\n      <td>0.000000</td>\n      <td>0.003041</td>\n      <td>0.003631</td>\n      <td>0.443684</td>\n      <td>0.958611</td>\n      <td>0.102748</td>\n      <td>0.823590</td>\n      <td>0.108834</td>\n      <td>0.989691</td>\n    </tr>\n    <tr>\n      <th>8995</th>\n      <td>0.999778</td>\n      <td>0.494275</td>\n      <td>0.000000</td>\n      <td>0.000000</td>\n      <td>0.000000</td>\n      <td>0.004672</td>\n      <td>0.003466</td>\n      <td>0.443062</td>\n      <td>0.965224</td>\n      <td>0.132770</td>\n      <td>0.815576</td>\n      <td>0.134276</td>\n      <td>0.989691</td>\n    </tr>\n    <tr>\n      <th>8996</th>\n      <td>0.999889</td>\n      <td>0.494235</td>\n      <td>0.000000</td>\n      <td>0.000000</td>\n      <td>0.000000</td>\n      <td>0.006514</td>\n      <td>0.003479</td>\n      <td>0.443062</td>\n      <td>0.985189</td>\n      <td>0.485941</td>\n      <td>0.787887</td>\n      <td>0.162544</td>\n      <td>1.000000</td>\n    </tr>\n    <tr>\n      <th>8997</th>\n      <td>1.000000</td>\n      <td>0.494316</td>\n      <td>0.000000</td>\n      <td>0.000000</td>\n      <td>0.000000</td>\n      <td>0.002192</td>\n      <td>0.003555</td>\n      <td>0.443062</td>\n      <td>0.976514</td>\n      <td>0.102696</td>\n      <td>0.800216</td>\n      <td>0.161131</td>\n      <td>1.000000</td>\n    </tr>\n  </tbody>\n</table>\n<p>8998 rows × 13 columns</p>\n</div>"
     },
     "execution_count": 4,
     "metadata": {},
     "output_type": "execute_result"
    }
   ],
   "source": [
    "normalized_df=(sample_df2-sample_df2.min())/(sample_df2.max()-sample_df2.min())\n",
    "normalized_df"
   ],
   "metadata": {
    "collapsed": false,
    "ExecuteTime": {
     "end_time": "2023-08-04T15:57:58.486895400Z",
     "start_time": "2023-08-04T15:57:58.445285300Z"
    }
   }
  },
  {
   "cell_type": "code",
   "execution_count": 5,
   "outputs": [
    {
     "name": "stdout",
     "output_type": "stream",
     "text": [
      "Unexpected exception formatting exception. Falling back to standard exception\n"
     ]
    },
    {
     "name": "stderr",
     "output_type": "stream",
     "text": [
      "Traceback (most recent call last):\n",
      "  File \"C:\\Users\\fj4908.NASDOMAIN\\Documents\\GitHub\\audio-modeling\\venv\\lib\\site-packages\\IPython\\core\\interactiveshell.py\", line 3508, in run_code\n",
      "    exec(code_obj, self.user_global_ns, self.user_ns)\n",
      "  File \"C:\\Users\\fj4908.NASDOMAIN\\AppData\\Local\\Temp\\ipykernel_19072\\3406106090.py\", line 2, in <module>\n",
      "    g = sns.displot(data=sample_dfm, x='value', col='columns', col_wrap=3, common_norm=False, kde=True, stat='density')\n",
      "  File \"C:\\Users\\fj4908.NASDOMAIN\\Documents\\GitHub\\audio-modeling\\venv\\lib\\site-packages\\seaborn\\distributions.py\", line 2210, in displot\n",
      "    p.plot_univariate_histogram(**hist_kws)\n",
      "  File \"C:\\Users\\fj4908.NASDOMAIN\\Documents\\GitHub\\audio-modeling\\venv\\lib\\site-packages\\seaborn\\distributions.py\", line 575, in plot_univariate_histogram\n",
      "    artists = plot_func(\n",
      "  File \"C:\\Users\\fj4908.NASDOMAIN\\Documents\\GitHub\\audio-modeling\\venv\\lib\\site-packages\\matplotlib\\__init__.py\", line 1475, in inner\n",
      "    return func(ax, *map(sanitize_sequence, args), **kwargs)\n",
      "  File \"C:\\Users\\fj4908.NASDOMAIN\\Documents\\GitHub\\audio-modeling\\venv\\lib\\site-packages\\matplotlib\\axes\\_axes.py\", line 2471, in bar\n",
      "    for l, b, w, h, c, e, lw, htch, lbl in args:\n",
      "MemoryError\n",
      "\n",
      "During handling of the above exception, another exception occurred:\n",
      "\n",
      "Traceback (most recent call last):\n",
      "  File \"C:\\Users\\fj4908.NASDOMAIN\\Documents\\GitHub\\audio-modeling\\venv\\lib\\site-packages\\IPython\\core\\interactiveshell.py\", line 2105, in showtraceback\n",
      "    stb = self.InteractiveTB.structured_traceback(\n",
      "  File \"C:\\Users\\fj4908.NASDOMAIN\\Documents\\GitHub\\audio-modeling\\venv\\lib\\site-packages\\IPython\\core\\ultratb.py\", line 1428, in structured_traceback\n",
      "    return FormattedTB.structured_traceback(\n",
      "  File \"C:\\Users\\fj4908.NASDOMAIN\\Documents\\GitHub\\audio-modeling\\venv\\lib\\site-packages\\IPython\\core\\ultratb.py\", line 1319, in structured_traceback\n",
      "    return VerboseTB.structured_traceback(\n",
      "  File \"C:\\Users\\fj4908.NASDOMAIN\\Documents\\GitHub\\audio-modeling\\venv\\lib\\site-packages\\IPython\\core\\ultratb.py\", line 1172, in structured_traceback\n",
      "    formatted_exception = self.format_exception_as_a_whole(etype, evalue, etb, number_of_lines_of_context,\n",
      "  File \"C:\\Users\\fj4908.NASDOMAIN\\Documents\\GitHub\\audio-modeling\\venv\\lib\\site-packages\\IPython\\core\\ultratb.py\", line 1062, in format_exception_as_a_whole\n",
      "    self.get_records(etb, number_of_lines_of_context, tb_offset) if etb else []\n",
      "  File \"C:\\Users\\fj4908.NASDOMAIN\\Documents\\GitHub\\audio-modeling\\venv\\lib\\site-packages\\IPython\\core\\ultratb.py\", line 1159, in get_records\n",
      "    res = list(stack_data.FrameInfo.stack_data(etb, options=options))[tb_offset:]\n",
      "  File \"C:\\Users\\fj4908.NASDOMAIN\\Documents\\GitHub\\audio-modeling\\venv\\lib\\site-packages\\stack_data\\core.py\", line 597, in stack_data\n",
      "    yield from collapse_repeated(\n",
      "  File \"C:\\Users\\fj4908.NASDOMAIN\\Documents\\GitHub\\audio-modeling\\venv\\lib\\site-packages\\stack_data\\utils.py\", line 83, in collapse_repeated\n",
      "    yield from map(mapper, original_group)\n",
      "  File \"C:\\Users\\fj4908.NASDOMAIN\\Documents\\GitHub\\audio-modeling\\venv\\lib\\site-packages\\stack_data\\core.py\", line 587, in mapper\n",
      "    return cls(f, options)\n",
      "  File \"C:\\Users\\fj4908.NASDOMAIN\\Documents\\GitHub\\audio-modeling\\venv\\lib\\site-packages\\stack_data\\core.py\", line 551, in __init__\n",
      "    self.executing = Source.executing(frame_or_tb)\n",
      "  File \"C:\\Users\\fj4908.NASDOMAIN\\Documents\\GitHub\\audio-modeling\\venv\\lib\\site-packages\\executing\\executing.py\", line 359, in executing\n",
      "    source = cls.for_frame(frame)\n",
      "  File \"C:\\Users\\fj4908.NASDOMAIN\\Documents\\GitHub\\audio-modeling\\venv\\lib\\site-packages\\executing\\executing.py\", line 277, in for_frame\n",
      "    return cls.for_filename(frame.f_code.co_filename, frame.f_globals or {}, use_cache)\n",
      "  File \"C:\\Users\\fj4908.NASDOMAIN\\Documents\\GitHub\\audio-modeling\\venv\\lib\\site-packages\\executing\\executing.py\", line 306, in for_filename\n",
      "    return cls._for_filename_and_lines(filename, tuple(lines))\n",
      "  File \"C:\\Users\\fj4908.NASDOMAIN\\Documents\\GitHub\\audio-modeling\\venv\\lib\\site-packages\\executing\\executing.py\", line 317, in _for_filename_and_lines\n",
      "    result = source_cache[(filename, lines)] = cls(filename, lines)\n",
      "  File \"C:\\Users\\fj4908.NASDOMAIN\\Documents\\GitHub\\audio-modeling\\venv\\lib\\site-packages\\executing\\executing.py\", line 227, in __init__\n",
      "    text = ''.join(lines)\n",
      "MemoryError\n"
     ]
    },
    {
     "name": "stdout",
     "output_type": "stream",
     "text": [
      "Error in callback <function _draw_all_if_interactive at 0x0000029F87609F70> (for post_execute):\n"
     ]
    },
    {
     "ename": "MemoryError",
     "evalue": "",
     "output_type": "error",
     "traceback": [
      "\u001B[1;31m---------------------------------------------------------------------------\u001B[0m",
      "\u001B[1;31mMemoryError\u001B[0m                               Traceback (most recent call last)",
      "File \u001B[1;32m~\\Documents\\GitHub\\audio-modeling\\venv\\lib\\site-packages\\matplotlib\\pyplot.py:120\u001B[0m, in \u001B[0;36m_draw_all_if_interactive\u001B[1;34m()\u001B[0m\n\u001B[0;32m    118\u001B[0m \u001B[38;5;28;01mdef\u001B[39;00m \u001B[38;5;21m_draw_all_if_interactive\u001B[39m():\n\u001B[0;32m    119\u001B[0m     \u001B[38;5;28;01mif\u001B[39;00m matplotlib\u001B[38;5;241m.\u001B[39mis_interactive():\n\u001B[1;32m--> 120\u001B[0m         \u001B[43mdraw_all\u001B[49m\u001B[43m(\u001B[49m\u001B[43m)\u001B[49m\n",
      "File \u001B[1;32m~\\Documents\\GitHub\\audio-modeling\\venv\\lib\\site-packages\\matplotlib\\_pylab_helpers.py:132\u001B[0m, in \u001B[0;36mGcf.draw_all\u001B[1;34m(cls, force)\u001B[0m\n\u001B[0;32m    130\u001B[0m \u001B[38;5;28;01mfor\u001B[39;00m manager \u001B[38;5;129;01min\u001B[39;00m \u001B[38;5;28mcls\u001B[39m\u001B[38;5;241m.\u001B[39mget_all_fig_managers():\n\u001B[0;32m    131\u001B[0m     \u001B[38;5;28;01mif\u001B[39;00m force \u001B[38;5;129;01mor\u001B[39;00m manager\u001B[38;5;241m.\u001B[39mcanvas\u001B[38;5;241m.\u001B[39mfigure\u001B[38;5;241m.\u001B[39mstale:\n\u001B[1;32m--> 132\u001B[0m         \u001B[43mmanager\u001B[49m\u001B[38;5;241;43m.\u001B[39;49m\u001B[43mcanvas\u001B[49m\u001B[38;5;241;43m.\u001B[39;49m\u001B[43mdraw_idle\u001B[49m\u001B[43m(\u001B[49m\u001B[43m)\u001B[49m\n",
      "File \u001B[1;32m~\\Documents\\GitHub\\audio-modeling\\venv\\lib\\site-packages\\matplotlib\\backend_bases.py:2082\u001B[0m, in \u001B[0;36mFigureCanvasBase.draw_idle\u001B[1;34m(self, *args, **kwargs)\u001B[0m\n\u001B[0;32m   2080\u001B[0m \u001B[38;5;28;01mif\u001B[39;00m \u001B[38;5;129;01mnot\u001B[39;00m \u001B[38;5;28mself\u001B[39m\u001B[38;5;241m.\u001B[39m_is_idle_drawing:\n\u001B[0;32m   2081\u001B[0m     \u001B[38;5;28;01mwith\u001B[39;00m \u001B[38;5;28mself\u001B[39m\u001B[38;5;241m.\u001B[39m_idle_draw_cntx():\n\u001B[1;32m-> 2082\u001B[0m         \u001B[38;5;28mself\u001B[39m\u001B[38;5;241m.\u001B[39mdraw(\u001B[38;5;241m*\u001B[39margs, \u001B[38;5;241m*\u001B[39m\u001B[38;5;241m*\u001B[39mkwargs)\n",
      "File \u001B[1;32m~\\Documents\\GitHub\\audio-modeling\\venv\\lib\\site-packages\\matplotlib\\backends\\backend_agg.py:400\u001B[0m, in \u001B[0;36mFigureCanvasAgg.draw\u001B[1;34m(self)\u001B[0m\n\u001B[0;32m    396\u001B[0m \u001B[38;5;66;03m# Acquire a lock on the shared font cache.\u001B[39;00m\n\u001B[0;32m    397\u001B[0m \u001B[38;5;28;01mwith\u001B[39;00m RendererAgg\u001B[38;5;241m.\u001B[39mlock, \\\n\u001B[0;32m    398\u001B[0m      (\u001B[38;5;28mself\u001B[39m\u001B[38;5;241m.\u001B[39mtoolbar\u001B[38;5;241m.\u001B[39m_wait_cursor_for_draw_cm() \u001B[38;5;28;01mif\u001B[39;00m \u001B[38;5;28mself\u001B[39m\u001B[38;5;241m.\u001B[39mtoolbar\n\u001B[0;32m    399\u001B[0m       \u001B[38;5;28;01melse\u001B[39;00m nullcontext()):\n\u001B[1;32m--> 400\u001B[0m     \u001B[38;5;28;43mself\u001B[39;49m\u001B[38;5;241;43m.\u001B[39;49m\u001B[43mfigure\u001B[49m\u001B[38;5;241;43m.\u001B[39;49m\u001B[43mdraw\u001B[49m\u001B[43m(\u001B[49m\u001B[38;5;28;43mself\u001B[39;49m\u001B[38;5;241;43m.\u001B[39;49m\u001B[43mrenderer\u001B[49m\u001B[43m)\u001B[49m\n\u001B[0;32m    401\u001B[0m     \u001B[38;5;66;03m# A GUI class may be need to update a window using this draw, so\u001B[39;00m\n\u001B[0;32m    402\u001B[0m     \u001B[38;5;66;03m# don't forget to call the superclass.\u001B[39;00m\n\u001B[0;32m    403\u001B[0m     \u001B[38;5;28msuper\u001B[39m()\u001B[38;5;241m.\u001B[39mdraw()\n",
      "File \u001B[1;32m~\\Documents\\GitHub\\audio-modeling\\venv\\lib\\site-packages\\matplotlib\\artist.py:95\u001B[0m, in \u001B[0;36m_finalize_rasterization.<locals>.draw_wrapper\u001B[1;34m(artist, renderer, *args, **kwargs)\u001B[0m\n\u001B[0;32m     93\u001B[0m \u001B[38;5;129m@wraps\u001B[39m(draw)\n\u001B[0;32m     94\u001B[0m \u001B[38;5;28;01mdef\u001B[39;00m \u001B[38;5;21mdraw_wrapper\u001B[39m(artist, renderer, \u001B[38;5;241m*\u001B[39margs, \u001B[38;5;241m*\u001B[39m\u001B[38;5;241m*\u001B[39mkwargs):\n\u001B[1;32m---> 95\u001B[0m     result \u001B[38;5;241m=\u001B[39m draw(artist, renderer, \u001B[38;5;241m*\u001B[39margs, \u001B[38;5;241m*\u001B[39m\u001B[38;5;241m*\u001B[39mkwargs)\n\u001B[0;32m     96\u001B[0m     \u001B[38;5;28;01mif\u001B[39;00m renderer\u001B[38;5;241m.\u001B[39m_rasterizing:\n\u001B[0;32m     97\u001B[0m         renderer\u001B[38;5;241m.\u001B[39mstop_rasterizing()\n",
      "File \u001B[1;32m~\\Documents\\GitHub\\audio-modeling\\venv\\lib\\site-packages\\matplotlib\\artist.py:72\u001B[0m, in \u001B[0;36mallow_rasterization.<locals>.draw_wrapper\u001B[1;34m(artist, renderer)\u001B[0m\n\u001B[0;32m     69\u001B[0m     \u001B[38;5;28;01mif\u001B[39;00m artist\u001B[38;5;241m.\u001B[39mget_agg_filter() \u001B[38;5;129;01mis\u001B[39;00m \u001B[38;5;129;01mnot\u001B[39;00m \u001B[38;5;28;01mNone\u001B[39;00m:\n\u001B[0;32m     70\u001B[0m         renderer\u001B[38;5;241m.\u001B[39mstart_filter()\n\u001B[1;32m---> 72\u001B[0m     \u001B[38;5;28;01mreturn\u001B[39;00m \u001B[43mdraw\u001B[49m\u001B[43m(\u001B[49m\u001B[43martist\u001B[49m\u001B[43m,\u001B[49m\u001B[43m \u001B[49m\u001B[43mrenderer\u001B[49m\u001B[43m)\u001B[49m\n\u001B[0;32m     73\u001B[0m \u001B[38;5;28;01mfinally\u001B[39;00m:\n\u001B[0;32m     74\u001B[0m     \u001B[38;5;28;01mif\u001B[39;00m artist\u001B[38;5;241m.\u001B[39mget_agg_filter() \u001B[38;5;129;01mis\u001B[39;00m \u001B[38;5;129;01mnot\u001B[39;00m \u001B[38;5;28;01mNone\u001B[39;00m:\n",
      "File \u001B[1;32m~\\Documents\\GitHub\\audio-modeling\\venv\\lib\\site-packages\\matplotlib\\figure.py:3164\u001B[0m, in \u001B[0;36mFigure.draw\u001B[1;34m(self, renderer)\u001B[0m\n\u001B[0;32m   3161\u001B[0m \u001B[38;5;28;01mif\u001B[39;00m \u001B[38;5;129;01mnot\u001B[39;00m \u001B[38;5;28mself\u001B[39m\u001B[38;5;241m.\u001B[39mget_visible():\n\u001B[0;32m   3162\u001B[0m     \u001B[38;5;28;01mreturn\u001B[39;00m\n\u001B[1;32m-> 3164\u001B[0m artists \u001B[38;5;241m=\u001B[39m \u001B[38;5;28;43mself\u001B[39;49m\u001B[38;5;241;43m.\u001B[39;49m\u001B[43m_get_draw_artists\u001B[49m\u001B[43m(\u001B[49m\u001B[43mrenderer\u001B[49m\u001B[43m)\u001B[49m\n\u001B[0;32m   3165\u001B[0m \u001B[38;5;28;01mtry\u001B[39;00m:\n\u001B[0;32m   3166\u001B[0m     renderer\u001B[38;5;241m.\u001B[39mopen_group(\u001B[38;5;124m'\u001B[39m\u001B[38;5;124mfigure\u001B[39m\u001B[38;5;124m'\u001B[39m, gid\u001B[38;5;241m=\u001B[39m\u001B[38;5;28mself\u001B[39m\u001B[38;5;241m.\u001B[39mget_gid())\n",
      "File \u001B[1;32m~\\Documents\\GitHub\\audio-modeling\\venv\\lib\\site-packages\\matplotlib\\figure.py:234\u001B[0m, in \u001B[0;36mFigureBase._get_draw_artists\u001B[1;34m(self, renderer)\u001B[0m\n\u001B[0;32m    231\u001B[0m locator \u001B[38;5;241m=\u001B[39m ax\u001B[38;5;241m.\u001B[39mget_axes_locator()\n\u001B[0;32m    232\u001B[0m ax\u001B[38;5;241m.\u001B[39mapply_aspect(locator(ax, renderer) \u001B[38;5;28;01mif\u001B[39;00m locator \u001B[38;5;28;01melse\u001B[39;00m \u001B[38;5;28;01mNone\u001B[39;00m)\n\u001B[1;32m--> 234\u001B[0m \u001B[38;5;28;01mfor\u001B[39;00m child \u001B[38;5;129;01min\u001B[39;00m \u001B[43max\u001B[49m\u001B[38;5;241;43m.\u001B[39;49m\u001B[43mget_children\u001B[49m\u001B[43m(\u001B[49m\u001B[43m)\u001B[49m:\n\u001B[0;32m    235\u001B[0m     \u001B[38;5;28;01mif\u001B[39;00m \u001B[38;5;28mhasattr\u001B[39m(child, \u001B[38;5;124m'\u001B[39m\u001B[38;5;124mapply_aspect\u001B[39m\u001B[38;5;124m'\u001B[39m):\n\u001B[0;32m    236\u001B[0m         locator \u001B[38;5;241m=\u001B[39m child\u001B[38;5;241m.\u001B[39mget_axes_locator()\n",
      "File \u001B[1;32m~\\Documents\\GitHub\\audio-modeling\\venv\\lib\\site-packages\\matplotlib\\axes\\_base.py:4273\u001B[0m, in \u001B[0;36m_AxesBase.get_children\u001B[1;34m(self)\u001B[0m\n\u001B[0;32m   4271\u001B[0m \u001B[38;5;28;01mdef\u001B[39;00m \u001B[38;5;21mget_children\u001B[39m(\u001B[38;5;28mself\u001B[39m):\n\u001B[0;32m   4272\u001B[0m     \u001B[38;5;66;03m# docstring inherited.\u001B[39;00m\n\u001B[1;32m-> 4273\u001B[0m     \u001B[38;5;28;01mreturn\u001B[39;00m [\n\u001B[0;32m   4274\u001B[0m         \u001B[38;5;241m*\u001B[39m\u001B[38;5;28mself\u001B[39m\u001B[38;5;241m.\u001B[39m_children,\n\u001B[0;32m   4275\u001B[0m         \u001B[38;5;241m*\u001B[39m\u001B[38;5;28mself\u001B[39m\u001B[38;5;241m.\u001B[39mspines\u001B[38;5;241m.\u001B[39mvalues(),\n\u001B[0;32m   4276\u001B[0m         \u001B[38;5;241m*\u001B[39m\u001B[38;5;28mself\u001B[39m\u001B[38;5;241m.\u001B[39m_axis_map\u001B[38;5;241m.\u001B[39mvalues(),\n\u001B[0;32m   4277\u001B[0m         \u001B[38;5;28mself\u001B[39m\u001B[38;5;241m.\u001B[39mtitle, \u001B[38;5;28mself\u001B[39m\u001B[38;5;241m.\u001B[39m_left_title, \u001B[38;5;28mself\u001B[39m\u001B[38;5;241m.\u001B[39m_right_title,\n\u001B[0;32m   4278\u001B[0m         \u001B[38;5;241m*\u001B[39m\u001B[38;5;28mself\u001B[39m\u001B[38;5;241m.\u001B[39mchild_axes,\n\u001B[0;32m   4279\u001B[0m         \u001B[38;5;241m*\u001B[39m([\u001B[38;5;28mself\u001B[39m\u001B[38;5;241m.\u001B[39mlegend_] \u001B[38;5;28;01mif\u001B[39;00m \u001B[38;5;28mself\u001B[39m\u001B[38;5;241m.\u001B[39mlegend_ \u001B[38;5;129;01mis\u001B[39;00m \u001B[38;5;129;01mnot\u001B[39;00m \u001B[38;5;28;01mNone\u001B[39;00m \u001B[38;5;28;01melse\u001B[39;00m []),\n\u001B[0;32m   4280\u001B[0m         \u001B[38;5;28mself\u001B[39m\u001B[38;5;241m.\u001B[39mpatch,\n\u001B[0;32m   4281\u001B[0m     ]\n",
      "\u001B[1;31mMemoryError\u001B[0m: "
     ]
    },
    {
     "ename": "MemoryError",
     "evalue": "",
     "output_type": "error",
     "traceback": [
      "\u001B[1;31m---------------------------------------------------------------------------\u001B[0m",
      "\u001B[1;31mMemoryError\u001B[0m                               Traceback (most recent call last)",
      "File \u001B[1;32m~\\Documents\\GitHub\\audio-modeling\\venv\\lib\\site-packages\\IPython\\core\\formatters.py:340\u001B[0m, in \u001B[0;36mBaseFormatter.__call__\u001B[1;34m(self, obj)\u001B[0m\n\u001B[0;32m    338\u001B[0m     \u001B[38;5;28;01mpass\u001B[39;00m\n\u001B[0;32m    339\u001B[0m \u001B[38;5;28;01melse\u001B[39;00m:\n\u001B[1;32m--> 340\u001B[0m     \u001B[38;5;28;01mreturn\u001B[39;00m \u001B[43mprinter\u001B[49m\u001B[43m(\u001B[49m\u001B[43mobj\u001B[49m\u001B[43m)\u001B[49m\n\u001B[0;32m    341\u001B[0m \u001B[38;5;66;03m# Finally look for special method names\u001B[39;00m\n\u001B[0;32m    342\u001B[0m method \u001B[38;5;241m=\u001B[39m get_real_method(obj, \u001B[38;5;28mself\u001B[39m\u001B[38;5;241m.\u001B[39mprint_method)\n",
      "File \u001B[1;32m~\\Documents\\GitHub\\audio-modeling\\venv\\lib\\site-packages\\IPython\\core\\pylabtools.py:152\u001B[0m, in \u001B[0;36mprint_figure\u001B[1;34m(fig, fmt, bbox_inches, base64, **kwargs)\u001B[0m\n\u001B[0;32m    149\u001B[0m     \u001B[38;5;28;01mfrom\u001B[39;00m \u001B[38;5;21;01mmatplotlib\u001B[39;00m\u001B[38;5;21;01m.\u001B[39;00m\u001B[38;5;21;01mbackend_bases\u001B[39;00m \u001B[38;5;28;01mimport\u001B[39;00m FigureCanvasBase\n\u001B[0;32m    150\u001B[0m     FigureCanvasBase(fig)\n\u001B[1;32m--> 152\u001B[0m fig\u001B[38;5;241m.\u001B[39mcanvas\u001B[38;5;241m.\u001B[39mprint_figure(bytes_io, \u001B[38;5;241m*\u001B[39m\u001B[38;5;241m*\u001B[39mkw)\n\u001B[0;32m    153\u001B[0m data \u001B[38;5;241m=\u001B[39m bytes_io\u001B[38;5;241m.\u001B[39mgetvalue()\n\u001B[0;32m    154\u001B[0m \u001B[38;5;28;01mif\u001B[39;00m fmt \u001B[38;5;241m==\u001B[39m \u001B[38;5;124m'\u001B[39m\u001B[38;5;124msvg\u001B[39m\u001B[38;5;124m'\u001B[39m:\n",
      "File \u001B[1;32m~\\Documents\\GitHub\\audio-modeling\\venv\\lib\\site-packages\\matplotlib\\backend_bases.py:2342\u001B[0m, in \u001B[0;36mFigureCanvasBase.print_figure\u001B[1;34m(self, filename, dpi, facecolor, edgecolor, orientation, format, bbox_inches, pad_inches, bbox_extra_artists, backend, **kwargs)\u001B[0m\n\u001B[0;32m   2336\u001B[0m     renderer \u001B[38;5;241m=\u001B[39m _get_renderer(\n\u001B[0;32m   2337\u001B[0m         \u001B[38;5;28mself\u001B[39m\u001B[38;5;241m.\u001B[39mfigure,\n\u001B[0;32m   2338\u001B[0m         functools\u001B[38;5;241m.\u001B[39mpartial(\n\u001B[0;32m   2339\u001B[0m             print_method, orientation\u001B[38;5;241m=\u001B[39morientation)\n\u001B[0;32m   2340\u001B[0m     )\n\u001B[0;32m   2341\u001B[0m     \u001B[38;5;28;01mwith\u001B[39;00m \u001B[38;5;28mgetattr\u001B[39m(renderer, \u001B[38;5;124m\"\u001B[39m\u001B[38;5;124m_draw_disabled\u001B[39m\u001B[38;5;124m\"\u001B[39m, nullcontext)():\n\u001B[1;32m-> 2342\u001B[0m         \u001B[38;5;28;43mself\u001B[39;49m\u001B[38;5;241;43m.\u001B[39;49m\u001B[43mfigure\u001B[49m\u001B[38;5;241;43m.\u001B[39;49m\u001B[43mdraw\u001B[49m\u001B[43m(\u001B[49m\u001B[43mrenderer\u001B[49m\u001B[43m)\u001B[49m\n\u001B[0;32m   2344\u001B[0m \u001B[38;5;28;01mif\u001B[39;00m bbox_inches:\n\u001B[0;32m   2345\u001B[0m     \u001B[38;5;28;01mif\u001B[39;00m bbox_inches \u001B[38;5;241m==\u001B[39m \u001B[38;5;124m\"\u001B[39m\u001B[38;5;124mtight\u001B[39m\u001B[38;5;124m\"\u001B[39m:\n",
      "File \u001B[1;32m~\\Documents\\GitHub\\audio-modeling\\venv\\lib\\site-packages\\matplotlib\\artist.py:95\u001B[0m, in \u001B[0;36m_finalize_rasterization.<locals>.draw_wrapper\u001B[1;34m(artist, renderer, *args, **kwargs)\u001B[0m\n\u001B[0;32m     93\u001B[0m \u001B[38;5;129m@wraps\u001B[39m(draw)\n\u001B[0;32m     94\u001B[0m \u001B[38;5;28;01mdef\u001B[39;00m \u001B[38;5;21mdraw_wrapper\u001B[39m(artist, renderer, \u001B[38;5;241m*\u001B[39margs, \u001B[38;5;241m*\u001B[39m\u001B[38;5;241m*\u001B[39mkwargs):\n\u001B[1;32m---> 95\u001B[0m     result \u001B[38;5;241m=\u001B[39m draw(artist, renderer, \u001B[38;5;241m*\u001B[39margs, \u001B[38;5;241m*\u001B[39m\u001B[38;5;241m*\u001B[39mkwargs)\n\u001B[0;32m     96\u001B[0m     \u001B[38;5;28;01mif\u001B[39;00m renderer\u001B[38;5;241m.\u001B[39m_rasterizing:\n\u001B[0;32m     97\u001B[0m         renderer\u001B[38;5;241m.\u001B[39mstop_rasterizing()\n",
      "File \u001B[1;32m~\\Documents\\GitHub\\audio-modeling\\venv\\lib\\site-packages\\matplotlib\\artist.py:72\u001B[0m, in \u001B[0;36mallow_rasterization.<locals>.draw_wrapper\u001B[1;34m(artist, renderer)\u001B[0m\n\u001B[0;32m     69\u001B[0m     \u001B[38;5;28;01mif\u001B[39;00m artist\u001B[38;5;241m.\u001B[39mget_agg_filter() \u001B[38;5;129;01mis\u001B[39;00m \u001B[38;5;129;01mnot\u001B[39;00m \u001B[38;5;28;01mNone\u001B[39;00m:\n\u001B[0;32m     70\u001B[0m         renderer\u001B[38;5;241m.\u001B[39mstart_filter()\n\u001B[1;32m---> 72\u001B[0m     \u001B[38;5;28;01mreturn\u001B[39;00m \u001B[43mdraw\u001B[49m\u001B[43m(\u001B[49m\u001B[43martist\u001B[49m\u001B[43m,\u001B[49m\u001B[43m \u001B[49m\u001B[43mrenderer\u001B[49m\u001B[43m)\u001B[49m\n\u001B[0;32m     73\u001B[0m \u001B[38;5;28;01mfinally\u001B[39;00m:\n\u001B[0;32m     74\u001B[0m     \u001B[38;5;28;01mif\u001B[39;00m artist\u001B[38;5;241m.\u001B[39mget_agg_filter() \u001B[38;5;129;01mis\u001B[39;00m \u001B[38;5;129;01mnot\u001B[39;00m \u001B[38;5;28;01mNone\u001B[39;00m:\n",
      "File \u001B[1;32m~\\Documents\\GitHub\\audio-modeling\\venv\\lib\\site-packages\\matplotlib\\figure.py:3164\u001B[0m, in \u001B[0;36mFigure.draw\u001B[1;34m(self, renderer)\u001B[0m\n\u001B[0;32m   3161\u001B[0m \u001B[38;5;28;01mif\u001B[39;00m \u001B[38;5;129;01mnot\u001B[39;00m \u001B[38;5;28mself\u001B[39m\u001B[38;5;241m.\u001B[39mget_visible():\n\u001B[0;32m   3162\u001B[0m     \u001B[38;5;28;01mreturn\u001B[39;00m\n\u001B[1;32m-> 3164\u001B[0m artists \u001B[38;5;241m=\u001B[39m \u001B[38;5;28;43mself\u001B[39;49m\u001B[38;5;241;43m.\u001B[39;49m\u001B[43m_get_draw_artists\u001B[49m\u001B[43m(\u001B[49m\u001B[43mrenderer\u001B[49m\u001B[43m)\u001B[49m\n\u001B[0;32m   3165\u001B[0m \u001B[38;5;28;01mtry\u001B[39;00m:\n\u001B[0;32m   3166\u001B[0m     renderer\u001B[38;5;241m.\u001B[39mopen_group(\u001B[38;5;124m'\u001B[39m\u001B[38;5;124mfigure\u001B[39m\u001B[38;5;124m'\u001B[39m, gid\u001B[38;5;241m=\u001B[39m\u001B[38;5;28mself\u001B[39m\u001B[38;5;241m.\u001B[39mget_gid())\n",
      "File \u001B[1;32m~\\Documents\\GitHub\\audio-modeling\\venv\\lib\\site-packages\\matplotlib\\figure.py:234\u001B[0m, in \u001B[0;36mFigureBase._get_draw_artists\u001B[1;34m(self, renderer)\u001B[0m\n\u001B[0;32m    231\u001B[0m locator \u001B[38;5;241m=\u001B[39m ax\u001B[38;5;241m.\u001B[39mget_axes_locator()\n\u001B[0;32m    232\u001B[0m ax\u001B[38;5;241m.\u001B[39mapply_aspect(locator(ax, renderer) \u001B[38;5;28;01mif\u001B[39;00m locator \u001B[38;5;28;01melse\u001B[39;00m \u001B[38;5;28;01mNone\u001B[39;00m)\n\u001B[1;32m--> 234\u001B[0m \u001B[38;5;28;01mfor\u001B[39;00m child \u001B[38;5;129;01min\u001B[39;00m \u001B[43max\u001B[49m\u001B[38;5;241;43m.\u001B[39;49m\u001B[43mget_children\u001B[49m\u001B[43m(\u001B[49m\u001B[43m)\u001B[49m:\n\u001B[0;32m    235\u001B[0m     \u001B[38;5;28;01mif\u001B[39;00m \u001B[38;5;28mhasattr\u001B[39m(child, \u001B[38;5;124m'\u001B[39m\u001B[38;5;124mapply_aspect\u001B[39m\u001B[38;5;124m'\u001B[39m):\n\u001B[0;32m    236\u001B[0m         locator \u001B[38;5;241m=\u001B[39m child\u001B[38;5;241m.\u001B[39mget_axes_locator()\n",
      "File \u001B[1;32m~\\Documents\\GitHub\\audio-modeling\\venv\\lib\\site-packages\\matplotlib\\axes\\_base.py:4273\u001B[0m, in \u001B[0;36m_AxesBase.get_children\u001B[1;34m(self)\u001B[0m\n\u001B[0;32m   4271\u001B[0m \u001B[38;5;28;01mdef\u001B[39;00m \u001B[38;5;21mget_children\u001B[39m(\u001B[38;5;28mself\u001B[39m):\n\u001B[0;32m   4272\u001B[0m     \u001B[38;5;66;03m# docstring inherited.\u001B[39;00m\n\u001B[1;32m-> 4273\u001B[0m     \u001B[38;5;28;01mreturn\u001B[39;00m [\n\u001B[0;32m   4274\u001B[0m         \u001B[38;5;241m*\u001B[39m\u001B[38;5;28mself\u001B[39m\u001B[38;5;241m.\u001B[39m_children,\n\u001B[0;32m   4275\u001B[0m         \u001B[38;5;241m*\u001B[39m\u001B[38;5;28mself\u001B[39m\u001B[38;5;241m.\u001B[39mspines\u001B[38;5;241m.\u001B[39mvalues(),\n\u001B[0;32m   4276\u001B[0m         \u001B[38;5;241m*\u001B[39m\u001B[38;5;28mself\u001B[39m\u001B[38;5;241m.\u001B[39m_axis_map\u001B[38;5;241m.\u001B[39mvalues(),\n\u001B[0;32m   4277\u001B[0m         \u001B[38;5;28mself\u001B[39m\u001B[38;5;241m.\u001B[39mtitle, \u001B[38;5;28mself\u001B[39m\u001B[38;5;241m.\u001B[39m_left_title, \u001B[38;5;28mself\u001B[39m\u001B[38;5;241m.\u001B[39m_right_title,\n\u001B[0;32m   4278\u001B[0m         \u001B[38;5;241m*\u001B[39m\u001B[38;5;28mself\u001B[39m\u001B[38;5;241m.\u001B[39mchild_axes,\n\u001B[0;32m   4279\u001B[0m         \u001B[38;5;241m*\u001B[39m([\u001B[38;5;28mself\u001B[39m\u001B[38;5;241m.\u001B[39mlegend_] \u001B[38;5;28;01mif\u001B[39;00m \u001B[38;5;28mself\u001B[39m\u001B[38;5;241m.\u001B[39mlegend_ \u001B[38;5;129;01mis\u001B[39;00m \u001B[38;5;129;01mnot\u001B[39;00m \u001B[38;5;28;01mNone\u001B[39;00m \u001B[38;5;28;01melse\u001B[39;00m []),\n\u001B[0;32m   4280\u001B[0m         \u001B[38;5;28mself\u001B[39m\u001B[38;5;241m.\u001B[39mpatch,\n\u001B[0;32m   4281\u001B[0m     ]\n",
      "\u001B[1;31mMemoryError\u001B[0m: "
     ]
    },
    {
     "data": {
      "text/plain": "<Figure size 1500x2500 with 13 Axes>"
     },
     "metadata": {},
     "output_type": "display_data"
    }
   ],
   "source": [
    "sample_dfm = sample_df2.melt(var_name='columns')\n",
    "g = sns.displot(data=sample_dfm, x='value', col='columns', col_wrap=3, common_norm=False, kde=True, stat='density')"
   ],
   "metadata": {
    "collapsed": false,
    "ExecuteTime": {
     "end_time": "2023-08-04T17:15:55.177994700Z",
     "start_time": "2023-08-04T16:02:50.004245400Z"
    }
   }
  },
  {
   "cell_type": "code",
   "execution_count": null,
   "outputs": [],
   "source": [],
   "metadata": {
    "collapsed": false
   }
  }
 ],
 "metadata": {
  "kernelspec": {
   "display_name": "Python 3",
   "language": "python",
   "name": "python3"
  },
  "language_info": {
   "codemirror_mode": {
    "name": "ipython",
    "version": 2
   },
   "file_extension": ".py",
   "mimetype": "text/x-python",
   "name": "python",
   "nbconvert_exporter": "python",
   "pygments_lexer": "ipython2",
   "version": "2.7.6"
  }
 },
 "nbformat": 4,
 "nbformat_minor": 0
}
